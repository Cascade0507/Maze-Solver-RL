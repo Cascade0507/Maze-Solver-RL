{
 "cells": [
  {
   "cell_type": "code",
   "execution_count": 1,
   "id": "4c8c5fcf",
   "metadata": {},
   "outputs": [],
   "source": [
    "import os\n",
    "import gym"
   ]
  },
  {
   "cell_type": "code",
   "execution_count": 2,
   "id": "70bc8084",
   "metadata": {},
   "outputs": [],
   "source": [
    "from stable_baselines3 import PPO\n",
    "from stable_baselines3.common.vec_env import DummyVecEnv\n",
    "from stable_baselines3.common.evaluation import evaluate_policy"
   ]
  },
  {
   "cell_type": "code",
   "execution_count": 3,
   "id": "43e16f83",
   "metadata": {},
   "outputs": [],
   "source": [
    "environment_name = 'CartPole-v1'\n",
    "env = gym.make(environment_name,render_mode=\"human\")"
   ]
  },
  {
   "cell_type": "code",
   "execution_count": 4,
   "id": "60e06873",
   "metadata": {},
   "outputs": [
    {
     "data": {
      "text/plain": [
       "<TimeLimit<OrderEnforcing<PassiveEnvChecker<CartPoleEnv<CartPole-v1>>>>>"
      ]
     },
     "execution_count": 4,
     "metadata": {},
     "output_type": "execute_result"
    }
   ],
   "source": [
    "env"
   ]
  },
  {
   "cell_type": "code",
   "execution_count": 65,
   "id": "ef89e2e6",
   "metadata": {},
   "outputs": [
    {
     "name": "stdout",
     "output_type": "stream",
     "text": [
      "Episode:1, Score:43.0\n",
      "Episode:2, Score:21.0\n",
      "Episode:3, Score:23.0\n",
      "Episode:4, Score:24.0\n",
      "Episode:5, Score:19.0\n"
     ]
    }
   ],
   "source": [
    "episodes = 5\n",
    "for episode in range(episodes):\n",
    "    state = env.reset()\n",
    "    done = False\n",
    "    score = 0\n",
    "    \n",
    "    while not done:\n",
    "        env.render()\n",
    "        action = env.action_space.sample()\n",
    "        n_state, reward,done,_,info = env.step(action)\n",
    "        score+=reward;\n",
    "    print(f'Episode:{episode+1}, Score:{score}')"
   ]
  },
  {
   "cell_type": "code",
   "execution_count": 66,
   "id": "2a4eb6ca",
   "metadata": {},
   "outputs": [],
   "source": [
    "env.close()"
   ]
  },
  {
   "cell_type": "code",
   "execution_count": 16,
   "id": "1780861f",
   "metadata": {},
   "outputs": [
    {
     "data": {
      "text/plain": [
       "1.0"
      ]
     },
     "execution_count": 16,
     "metadata": {},
     "output_type": "execute_result"
    }
   ],
   "source": [
    "reward"
   ]
  },
  {
   "cell_type": "code",
   "execution_count": 17,
   "id": "c01c0608",
   "metadata": {},
   "outputs": [
    {
     "data": {
      "text/plain": [
       "(array([-0.00106457,  0.04178369, -0.0022251 ,  0.04761256], dtype=float32),\n",
       " {})"
      ]
     },
     "execution_count": 17,
     "metadata": {},
     "output_type": "execute_result"
    }
   ],
   "source": [
    "env.reset()"
   ]
  },
  {
   "cell_type": "code",
   "execution_count": 18,
   "id": "87331f65",
   "metadata": {},
   "outputs": [
    {
     "data": {
      "text/plain": [
       "Discrete(2)"
      ]
     },
     "execution_count": 18,
     "metadata": {},
     "output_type": "execute_result"
    }
   ],
   "source": [
    "env.action_space"
   ]
  },
  {
   "cell_type": "code",
   "execution_count": 19,
   "id": "c3786bb1",
   "metadata": {},
   "outputs": [
    {
     "data": {
      "text/plain": [
       "Box([-4.8000002e+00 -3.4028235e+38 -4.1887903e-01 -3.4028235e+38], [4.8000002e+00 3.4028235e+38 4.1887903e-01 3.4028235e+38], (4,), float32)"
      ]
     },
     "execution_count": 19,
     "metadata": {},
     "output_type": "execute_result"
    }
   ],
   "source": [
    "env.observation_space"
   ]
  },
  {
   "cell_type": "code",
   "execution_count": 29,
   "id": "9a22aca7",
   "metadata": {},
   "outputs": [
    {
     "data": {
      "text/plain": [
       "(array([ 0.18315578,  1.9980932 , -0.263402  , -3.075271  ], dtype=float32),\n",
       " 1.0,\n",
       " True,\n",
       " False,\n",
       " {})"
      ]
     },
     "execution_count": 29,
     "metadata": {},
     "output_type": "execute_result"
    }
   ],
   "source": [
    "env.step(1)"
   ]
  },
  {
   "cell_type": "code",
   "execution_count": 8,
   "id": "d5990c9f",
   "metadata": {},
   "outputs": [
    {
     "data": {
      "text/plain": [
       "'Testing_Directory\\\\logs'"
      ]
     },
     "execution_count": 8,
     "metadata": {},
     "output_type": "execute_result"
    }
   ],
   "source": [
    "log_path = os.path.join(\"Testing_Directory\",\"logs\")\n",
    "log_path"
   ]
  },
  {
   "cell_type": "code",
   "execution_count": 10,
   "id": "f3df8312",
   "metadata": {},
   "outputs": [],
   "source": [
    "env = gym.make(environment_name,render_mode = 'human')"
   ]
  },
  {
   "cell_type": "code",
   "execution_count": 11,
   "id": "1b737b08",
   "metadata": {},
   "outputs": [
    {
     "name": "stdout",
     "output_type": "stream",
     "text": [
      "Using cpu device\n"
     ]
    }
   ],
   "source": [
    "env = DummyVecEnv([lambda:env])\n",
    "model = PPO('MlpPolicy',env,verbose=1,tensorboard_log = log_path)\n"
   ]
  },
  {
   "cell_type": "code",
   "execution_count": 76,
   "id": "1e26043a",
   "metadata": {},
   "outputs": [
    {
     "name": "stdout",
     "output_type": "stream",
     "text": [
      "Logging to Testing_Directory\\logs\\PPO_1\n"
     ]
    },
    {
     "name": "stderr",
     "output_type": "stream",
     "text": [
      "C:\\Users\\gteja\\AppData\\Roaming\\Python\\Python311\\site-packages\\gym\\utils\\passive_env_checker.py:233: DeprecationWarning: `np.bool8` is a deprecated alias for `np.bool_`.  (Deprecated NumPy 1.24)\n",
      "  if not isinstance(terminated, (bool, np.bool8)):\n"
     ]
    },
    {
     "name": "stdout",
     "output_type": "stream",
     "text": [
      "-----------------------------\n",
      "| time/              |      |\n",
      "|    fps             | 45   |\n",
      "|    iterations      | 1    |\n",
      "|    time_elapsed    | 45   |\n",
      "|    total_timesteps | 2048 |\n",
      "-----------------------------\n",
      "----------------------------------------\n",
      "| time/                   |            |\n",
      "|    fps                  | 45         |\n",
      "|    iterations           | 2          |\n",
      "|    time_elapsed         | 90         |\n",
      "|    total_timesteps      | 4096       |\n",
      "| train/                  |            |\n",
      "|    approx_kl            | 0.00952083 |\n",
      "|    clip_fraction        | 0.103      |\n",
      "|    clip_range           | 0.2        |\n",
      "|    entropy_loss         | -0.686     |\n",
      "|    explained_variance   | 0.0132     |\n",
      "|    learning_rate        | 0.0003     |\n",
      "|    loss                 | 5.13       |\n",
      "|    n_updates            | 10         |\n",
      "|    policy_gradient_loss | -0.0152    |\n",
      "|    value_loss           | 48.2       |\n",
      "----------------------------------------\n",
      "------------------------------------------\n",
      "| time/                   |              |\n",
      "|    fps                  | 45           |\n",
      "|    iterations           | 3            |\n",
      "|    time_elapsed         | 135          |\n",
      "|    total_timesteps      | 6144         |\n",
      "| train/                  |              |\n",
      "|    approx_kl            | 0.0107187275 |\n",
      "|    clip_fraction        | 0.0739       |\n",
      "|    clip_range           | 0.2          |\n",
      "|    entropy_loss         | -0.663       |\n",
      "|    explained_variance   | 0.0814       |\n",
      "|    learning_rate        | 0.0003       |\n",
      "|    loss                 | 10.8         |\n",
      "|    n_updates            | 20           |\n",
      "|    policy_gradient_loss | -0.0174      |\n",
      "|    value_loss           | 34.8         |\n",
      "------------------------------------------\n",
      "-----------------------------------------\n",
      "| time/                   |             |\n",
      "|    fps                  | 45          |\n",
      "|    iterations           | 4           |\n",
      "|    time_elapsed         | 179         |\n",
      "|    total_timesteps      | 8192        |\n",
      "| train/                  |             |\n",
      "|    approx_kl            | 0.006091656 |\n",
      "|    clip_fraction        | 0.0607      |\n",
      "|    clip_range           | 0.2         |\n",
      "|    entropy_loss         | -0.63       |\n",
      "|    explained_variance   | 0.176       |\n",
      "|    learning_rate        | 0.0003      |\n",
      "|    loss                 | 24.2        |\n",
      "|    n_updates            | 30          |\n",
      "|    policy_gradient_loss | -0.015      |\n",
      "|    value_loss           | 52.5        |\n",
      "-----------------------------------------\n",
      "-----------------------------------------\n",
      "| time/                   |             |\n",
      "|    fps                  | 45          |\n",
      "|    iterations           | 5           |\n",
      "|    time_elapsed         | 223         |\n",
      "|    total_timesteps      | 10240       |\n",
      "| train/                  |             |\n",
      "|    approx_kl            | 0.008546415 |\n",
      "|    clip_fraction        | 0.0614      |\n",
      "|    clip_range           | 0.2         |\n",
      "|    entropy_loss         | -0.61       |\n",
      "|    explained_variance   | 0.317       |\n",
      "|    learning_rate        | 0.0003      |\n",
      "|    loss                 | 26.4        |\n",
      "|    n_updates            | 40          |\n",
      "|    policy_gradient_loss | -0.016      |\n",
      "|    value_loss           | 58.9        |\n",
      "-----------------------------------------\n",
      "----------------------------------------\n",
      "| time/                   |            |\n",
      "|    fps                  | 45         |\n",
      "|    iterations           | 6          |\n",
      "|    time_elapsed         | 267        |\n",
      "|    total_timesteps      | 12288      |\n",
      "| train/                  |            |\n",
      "|    approx_kl            | 0.01129591 |\n",
      "|    clip_fraction        | 0.109      |\n",
      "|    clip_range           | 0.2        |\n",
      "|    entropy_loss         | -0.589     |\n",
      "|    explained_variance   | 0.537      |\n",
      "|    learning_rate        | 0.0003     |\n",
      "|    loss                 | 29.4       |\n",
      "|    n_updates            | 50         |\n",
      "|    policy_gradient_loss | -0.0153    |\n",
      "|    value_loss           | 58.5       |\n",
      "----------------------------------------\n",
      "-----------------------------------------\n",
      "| time/                   |             |\n",
      "|    fps                  | 46          |\n",
      "|    iterations           | 7           |\n",
      "|    time_elapsed         | 311         |\n",
      "|    total_timesteps      | 14336       |\n",
      "| train/                  |             |\n",
      "|    approx_kl            | 0.008829485 |\n",
      "|    clip_fraction        | 0.0806      |\n",
      "|    clip_range           | 0.2         |\n",
      "|    entropy_loss         | -0.583      |\n",
      "|    explained_variance   | 0.709       |\n",
      "|    learning_rate        | 0.0003      |\n",
      "|    loss                 | 10.9        |\n",
      "|    n_updates            | 60          |\n",
      "|    policy_gradient_loss | -0.0113     |\n",
      "|    value_loss           | 45.7        |\n",
      "-----------------------------------------\n",
      "------------------------------------------\n",
      "| time/                   |              |\n",
      "|    fps                  | 46           |\n",
      "|    iterations           | 8            |\n",
      "|    time_elapsed         | 355          |\n",
      "|    total_timesteps      | 16384        |\n",
      "| train/                  |              |\n",
      "|    approx_kl            | 0.0063339854 |\n",
      "|    clip_fraction        | 0.053        |\n",
      "|    clip_range           | 0.2          |\n",
      "|    entropy_loss         | -0.582       |\n",
      "|    explained_variance   | 0.698        |\n",
      "|    learning_rate        | 0.0003       |\n",
      "|    loss                 | 18.4         |\n",
      "|    n_updates            | 70           |\n",
      "|    policy_gradient_loss | -0.0108      |\n",
      "|    value_loss           | 42.7         |\n",
      "------------------------------------------\n",
      "---------------------------------------\n",
      "| time/                   |           |\n",
      "|    fps                  | 46        |\n",
      "|    iterations           | 9         |\n",
      "|    time_elapsed         | 399       |\n",
      "|    total_timesteps      | 18432     |\n",
      "| train/                  |           |\n",
      "|    approx_kl            | 0.0125951 |\n",
      "|    clip_fraction        | 0.158     |\n",
      "|    clip_range           | 0.2       |\n",
      "|    entropy_loss         | -0.576    |\n",
      "|    explained_variance   | 0.803     |\n",
      "|    learning_rate        | 0.0003    |\n",
      "|    loss                 | 8.89      |\n",
      "|    n_updates            | 80        |\n",
      "|    policy_gradient_loss | -0.0139   |\n",
      "|    value_loss           | 40.1      |\n",
      "---------------------------------------\n",
      "-----------------------------------------\n",
      "| time/                   |             |\n",
      "|    fps                  | 46          |\n",
      "|    iterations           | 10          |\n",
      "|    time_elapsed         | 443         |\n",
      "|    total_timesteps      | 20480       |\n",
      "| train/                  |             |\n",
      "|    approx_kl            | 0.003423819 |\n",
      "|    clip_fraction        | 0.036       |\n",
      "|    clip_range           | 0.2         |\n",
      "|    entropy_loss         | -0.554      |\n",
      "|    explained_variance   | 0.639       |\n",
      "|    learning_rate        | 0.0003      |\n",
      "|    loss                 | 55.7        |\n",
      "|    n_updates            | 90          |\n",
      "|    policy_gradient_loss | -0.00627    |\n",
      "|    value_loss           | 57          |\n",
      "-----------------------------------------\n"
     ]
    },
    {
     "data": {
      "text/plain": [
       "<stable_baselines3.ppo.ppo.PPO at 0x2402a4bd410>"
      ]
     },
     "execution_count": 76,
     "metadata": {},
     "output_type": "execute_result"
    }
   ],
   "source": [
    "model.learn(total_timesteps = 20000)"
   ]
  },
  {
   "cell_type": "code",
   "execution_count": 12,
   "id": "d907dd30",
   "metadata": {},
   "outputs": [
    {
     "data": {
      "text/plain": [
       "'saved_models\\\\PPO_cartpole'"
      ]
     },
     "execution_count": 12,
     "metadata": {},
     "output_type": "execute_result"
    }
   ],
   "source": [
    "path = os.path.join('saved_models','PPO_cartpole')\n",
    "path"
   ]
  },
  {
   "cell_type": "code",
   "execution_count": 87,
   "id": "71625376",
   "metadata": {},
   "outputs": [],
   "source": [
    "model.save(path)"
   ]
  },
  {
   "cell_type": "code",
   "execution_count": 82,
   "id": "2c44f6b9",
   "metadata": {},
   "outputs": [],
   "source": [
    "del model"
   ]
  },
  {
   "cell_type": "code",
   "execution_count": 13,
   "id": "a0289b4c",
   "metadata": {},
   "outputs": [],
   "source": [
    "model = PPO.load(path,env=env)"
   ]
  },
  {
   "cell_type": "code",
   "execution_count": 14,
   "id": "c252faee",
   "metadata": {},
   "outputs": [
    {
     "data": {
      "text/plain": [
       "<stable_baselines3.ppo.ppo.PPO at 0x19cd375e590>"
      ]
     },
     "execution_count": 14,
     "metadata": {},
     "output_type": "execute_result"
    }
   ],
   "source": [
    "model"
   ]
  },
  {
   "cell_type": "code",
   "execution_count": 15,
   "id": "329a59ad",
   "metadata": {},
   "outputs": [
    {
     "name": "stdout",
     "output_type": "stream",
     "text": [
      "Logging to Testing_Directory\\logs\\PPO_2\n"
     ]
    },
    {
     "name": "stderr",
     "output_type": "stream",
     "text": [
      "C:\\Users\\gteja\\AppData\\Roaming\\Python\\Python311\\site-packages\\gym\\utils\\passive_env_checker.py:233: DeprecationWarning: `np.bool8` is a deprecated alias for `np.bool_`.  (Deprecated NumPy 1.24)\n",
      "  if not isinstance(terminated, (bool, np.bool8)):\n"
     ]
    },
    {
     "name": "stdout",
     "output_type": "stream",
     "text": [
      "-----------------------------\n",
      "| time/              |      |\n",
      "|    fps             | 47   |\n",
      "|    iterations      | 1    |\n",
      "|    time_elapsed    | 43   |\n",
      "|    total_timesteps | 2048 |\n",
      "-----------------------------\n"
     ]
    },
    {
     "data": {
      "text/plain": [
       "<stable_baselines3.ppo.ppo.PPO at 0x19cd375e590>"
      ]
     },
     "execution_count": 15,
     "metadata": {},
     "output_type": "execute_result"
    }
   ],
   "source": [
    "model.learn(total_timesteps=1000)"
   ]
  },
  {
   "cell_type": "code",
   "execution_count": 5,
   "id": "6d625838",
   "metadata": {},
   "outputs": [],
   "source": [
    "log_path = os.path.join('logs','PPO_2')"
   ]
  },
  {
   "cell_type": "code",
   "execution_count": 17,
   "id": "76b530e2",
   "metadata": {},
   "outputs": [
    {
     "name": "stderr",
     "output_type": "stream",
     "text": [
      "C:\\Users\\gteja\\AppData\\Roaming\\Python\\Python311\\site-packages\\stable_baselines3\\common\\evaluation.py:67: UserWarning: Evaluation environment is not wrapped with a ``Monitor`` wrapper. This may result in reporting modified episode lengths and rewards, if other wrappers happen to modify these. Consider wrapping environment first with ``Monitor`` wrapper.\n",
      "  warnings.warn(\n"
     ]
    },
    {
     "data": {
      "text/plain": [
       "(500.0, 0.0)"
      ]
     },
     "execution_count": 17,
     "metadata": {},
     "output_type": "execute_result"
    }
   ],
   "source": [
    "evaluate_policy(model,env,n_eval_episodes = 10,render=True)"
   ]
  },
  {
   "cell_type": "code",
   "execution_count": 42,
   "id": "e82872c1",
   "metadata": {},
   "outputs": [],
   "source": [
    "env = gym.make(environment_name,render_mode = 'human')\n",
    "env = DummyVecEnv([lambda:env])"
   ]
  },
  {
   "cell_type": "code",
   "execution_count": 44,
   "id": "0910fe8e",
   "metadata": {},
   "outputs": [
    {
     "name": "stdout",
     "output_type": "stream",
     "text": [
      "Episode:0,Score:[500.]\n",
      "Episode:1,Score:[500.]\n",
      "Episode:2,Score:[500.]\n",
      "Episode:3,Score:[500.]\n",
      "Episode:4,Score:[500.]\n"
     ]
    }
   ],
   "source": [
    "episodes=5\n",
    "for episode in range(episodes):\n",
    "    obs = env.reset()\n",
    "    done=False\n",
    "    score=0\n",
    "    while not done:\n",
    "        env.render()\n",
    "        action,_ = model.predict(obs)\n",
    "        obs,reward,done,info = env.step(action)\n",
    "        score += reward\n",
    "    print(f'Episode:{episode},Score:{score}')\n"
   ]
  },
  {
   "cell_type": "code",
   "execution_count": 45,
   "id": "5f557cb8",
   "metadata": {},
   "outputs": [],
   "source": [
    "env.close()"
   ]
  },
  {
   "cell_type": "code",
   "execution_count": 46,
   "id": "6996b91f",
   "metadata": {},
   "outputs": [
    {
     "data": {
      "text/plain": [
       "'logs'"
      ]
     },
     "execution_count": 46,
     "metadata": {},
     "output_type": "execute_result"
    }
   ],
   "source": [
    "log_path"
   ]
  },
  {
   "cell_type": "code",
   "execution_count": null,
   "id": "199f7a45",
   "metadata": {},
   "outputs": [],
   "source": [
    "train_log = os.path.join(log_path,'PPO_1')"
   ]
  },
  {
   "cell_type": "code",
   "execution_count": 6,
   "id": "40fd8eef",
   "metadata": {},
   "outputs": [
    {
     "name": "stdout",
     "output_type": "stream",
     "text": [
      "^C\n"
     ]
    }
   ],
   "source": [
    "!python -m tensorboard.main --logdir=[log_path]"
   ]
  },
  {
   "cell_type": "code",
   "execution_count": null,
   "id": "401cc96b",
   "metadata": {},
   "outputs": [],
   "source": []
  }
 ],
 "metadata": {
  "kernelspec": {
   "display_name": "Python 3 (ipykernel)",
   "language": "python",
   "name": "python3"
  },
  "language_info": {
   "codemirror_mode": {
    "name": "ipython",
    "version": 3
   },
   "file_extension": ".py",
   "mimetype": "text/x-python",
   "name": "python",
   "nbconvert_exporter": "python",
   "pygments_lexer": "ipython3",
   "version": "3.11.4"
  }
 },
 "nbformat": 4,
 "nbformat_minor": 5
}
